{
 "cells": [
  {
   "cell_type": "markdown",
   "metadata": {},
   "source": [
    "This notebook covers the code for exploratory analysis of the data\n",
    "\n",
    "## Problem Statement\n",
    "\n",
    "Given a User U and edit history (e1,e2,e3....eN) and provided that eN has been reverted we need to predict if the User is going to make an edit e(N+1)\n",
    "\n",
    "Assumption:\n",
    "The edit history is related to one particular article. Therefore, e1,e2..eN are for a particular user for a particular article"
   ]
  },
  {
   "cell_type": "code",
   "execution_count": 1,
   "metadata": {},
   "outputs": [],
   "source": [
    "import pandas as pd\n",
    "import numpy as np\n",
    "import seaborn as sns\n",
    "import matplotlib.pyplot as plt"
   ]
  },
  {
   "cell_type": "code",
   "execution_count": 2,
   "metadata": {},
   "outputs": [],
   "source": [
    "train_data = pd.read_csv('../data/wikichallenge/training.tsv', sep='\\t', header=0)\n",
    "namespaces = pd.read_csv('../data/wikichallenge/namespaces.tsv', sep='\\t', header=0)\n",
    "comments = pd.read_csv('../data/wikichallenge/comments.tsv', sep='\\t', header=0)\n",
    "categories = pd.read_csv('../data/wikichallenge/categories.tsv', sep='\\t', header=0)\n",
    "titles = pd.read_csv('../data/wikichallenge/titles.tsv', sep='\\t', header=0)"
   ]
  },
  {
   "cell_type": "code",
   "execution_count": null,
   "metadata": {
    "scrolled": true
   },
   "outputs": [],
   "source": [
    "print(train_data.columns)\n",
    "print(namespaces.columns)\n",
    "print(comments.columns)\n",
    "print(categories.columns)\n",
    "print(titles.columns)"
   ]
  },
  {
   "cell_type": "code",
   "execution_count": null,
   "metadata": {},
   "outputs": [],
   "source": [
    "print(train_data.shape)\n",
    "print(train_data.dtypes)\n",
    "train_data.head(n=10)"
   ]
  },
  {
   "cell_type": "markdown",
   "metadata": {},
   "source": [
    "|\n",
    "| \n",
    "The _reverted_ column is the indicator if the edit was reverted. We can see how many reverts are there in the training data. "
   ]
  },
  {
   "cell_type": "code",
   "execution_count": null,
   "metadata": {},
   "outputs": [],
   "source": [
    "sns.distplot(train_data['reverted'],kde=False)"
   ]
  },
  {
   "cell_type": "markdown",
   "metadata": {},
   "source": [
    "||\n",
    "The ratio of reverts to edits is roughly 12.5% \n",
    "\n",
    "The next thing to check is the number of unique users with reverted flag as **True** . i.e. How many unique users' edits have been reverted\n"
   ]
  },
  {
   "cell_type": "code",
   "execution_count": null,
   "metadata": {},
   "outputs": [],
   "source": [
    "all_unique_users = train_data['user_id'].unique()\n",
    "reverted = train_data.loc[train_data.index[train_data['reverted'] == 1]]['user_id'].unique()\n",
    "counts = [len(all_unique_users),len(reverted)]\n",
    "plt.bar([0,1],counts)\n",
    "plt.xticks([0,1],('all_users','reverted_users'))\n",
    "plt.show()"
   ]
  },
  {
   "cell_type": "markdown",
   "metadata": {},
   "source": [
    "It shows the number of users whose edits have been reverted atleast once are roughly 25% of the population. Next we move on to see how many reverts have a followup edit from the user."
   ]
  },
  {
   "cell_type": "code",
   "execution_count": null,
   "metadata": {},
   "outputs": [],
   "source": [
    "sorted_df = train_data.sort_values(by=['user_id','article_id','timestamp'])\n",
    "sorted_df.head()\n",
    "reverts = sorted_df.index[train_data['reverted'] == 1].tolist()"
   ]
  },
  {
   "cell_type": "code",
   "execution_count": null,
   "metadata": {},
   "outputs": [],
   "source": [
    "counts = {'yes':0,'no':0}\n",
    "#We count the instances where the edit was reverted and the followup edit was there or not\n",
    "\n",
    "[rows,cols] = sorted_df.shape\n",
    "\n",
    "\n",
    "for row in reverts:\n",
    "    u_id = sorted_df.iloc[row]['user_id']\n",
    "    a_id = sorted_df.iloc[row]['article_id']\n",
    "    \n",
    "    next_u_id = sorted_df.iloc[row+1]['user_id']\n",
    "    next_a_id = sorted_df.iloc[row+1]['article_id']\n",
    "    \n",
    "    if u_id == next_u_id and a_id == next_a_id:\n",
    "        counts['yes'] += 1\n",
    "    else:\n",
    "        counts['no'] += 1\n",
    "\n",
    "\n",
    "plt.bar([0,1],[counts['no'],counts['yes']])\n",
    "plt.xticks([0,1],('no','yes'))   \n",
    "plt.show()\n",
    "    "
   ]
  },
  {
   "cell_type": "code",
   "execution_count": null,
   "metadata": {},
   "outputs": [],
   "source": [
    "sorted_df.head()"
   ]
  },
  {
   "cell_type": "code",
   "execution_count": null,
   "metadata": {},
   "outputs": [],
   "source": [
    "print(titles.shape)\n",
    "print(titles.dtypes)\n",
    "titles.head(n=10)"
   ]
  },
  {
   "cell_type": "code",
   "execution_count": null,
   "metadata": {},
   "outputs": [],
   "source": [
    "print(comments.shape)\n",
    "print(comments.dtypes)\n",
    "comments.head(n=10)"
   ]
  },
  {
   "cell_type": "code",
   "execution_count": null,
   "metadata": {},
   "outputs": [],
   "source": [
    "print(namespaces.shape)\n",
    "print(namespaces.dtypes)\n",
    "namespaces.head(n=10)"
   ]
  },
  {
   "cell_type": "code",
   "execution_count": null,
   "metadata": {},
   "outputs": [],
   "source": [
    "print(categories.shape)\n",
    "print(categories.dtypes)\n",
    "categories.head(n=10)"
   ]
  },
  {
   "cell_type": "code",
   "execution_count": null,
   "metadata": {},
   "outputs": [],
   "source": []
  }
 ],
 "metadata": {
  "kernelspec": {
   "display_name": "Python 3",
   "language": "python",
   "name": "python3"
  },
  "language_info": {
   "codemirror_mode": {
    "name": "ipython",
    "version": 3
   },
   "file_extension": ".py",
   "mimetype": "text/x-python",
   "name": "python",
   "nbconvert_exporter": "python",
   "pygments_lexer": "ipython3",
   "version": "3.6.8"
  }
 },
 "nbformat": 4,
 "nbformat_minor": 2
}
