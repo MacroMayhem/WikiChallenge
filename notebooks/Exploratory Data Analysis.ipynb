{
 "cells": [
  {
   "cell_type": "markdown",
   "metadata": {},
   "source": [
    "This notebook covers the code for exploratory analysis of the data\n",
    "\n",
    "## Problem Statement\n",
    "\n",
    "Given a User U and edit history (e1,e2,e3....eN) and provided that eN has been reverted we need to predict if the User is going to make an edit e(N+1)\n",
    "\n",
    "We aim to categorize data by user_id,article_id pairs. Since, the time at which user received a revert is not noted it cannot be said with certainity that a user stopped editing after receiving a revert since, a revert can come long after the user stopped using the platform altogether.\n",
    "\n",
    "Therefore, it is better to focus on the user_id,article_id pairs. We focus on the article_id on which the user gets a revert, and focus on predicting whether a user comes back to provide an edit on that particula article.\n",
    "\n",
    "If the test_data contains a mix of article_id we will focus on the article_id which got the revert."
   ]
  },
  {
   "cell_type": "code",
   "execution_count": 1,
   "metadata": {},
   "outputs": [],
   "source": [
    "import pandas as pd\n",
    "import numpy as np\n",
    "import seaborn as sns\n",
    "import matplotlib.pyplot as plt"
   ]
  },
  {
   "cell_type": "code",
   "execution_count": 2,
   "metadata": {},
   "outputs": [],
   "source": [
    "train_data = pd.read_csv('../data/wikichallenge/training.tsv', sep='\\t', header=0)"
   ]
  },
  {
   "cell_type": "code",
   "execution_count": 3,
   "metadata": {
    "scrolled": true
   },
   "outputs": [
    {
     "name": "stdout",
     "output_type": "stream",
     "text": [
      "Index(['user_id', 'article_id', 'revision_id', 'namespace', 'timestamp', 'md5',\n",
      "       'reverted', 'reverted_user_id', 'reverted_revision_id', 'delta',\n",
      "       'cur_size'],\n",
      "      dtype='object')\n",
      "(22126031, 11)\n",
      "user_id                  int64\n",
      "article_id               int64\n",
      "revision_id              int64\n",
      "namespace                int64\n",
      "timestamp               object\n",
      "md5                     object\n",
      "reverted                 int64\n",
      "reverted_user_id         int64\n",
      "reverted_revision_id     int64\n",
      "delta                    int64\n",
      "cur_size                 int64\n",
      "dtype: object\n"
     ]
    },
    {
     "data": {
      "text/html": [
       "<div>\n",
       "<style scoped>\n",
       "    .dataframe tbody tr th:only-of-type {\n",
       "        vertical-align: middle;\n",
       "    }\n",
       "\n",
       "    .dataframe tbody tr th {\n",
       "        vertical-align: top;\n",
       "    }\n",
       "\n",
       "    .dataframe thead th {\n",
       "        text-align: right;\n",
       "    }\n",
       "</style>\n",
       "<table border=\"1\" class=\"dataframe\">\n",
       "  <thead>\n",
       "    <tr style=\"text-align: right;\">\n",
       "      <th></th>\n",
       "      <th>user_id</th>\n",
       "      <th>article_id</th>\n",
       "      <th>revision_id</th>\n",
       "      <th>namespace</th>\n",
       "      <th>timestamp</th>\n",
       "      <th>md5</th>\n",
       "      <th>reverted</th>\n",
       "      <th>reverted_user_id</th>\n",
       "      <th>reverted_revision_id</th>\n",
       "      <th>delta</th>\n",
       "      <th>cur_size</th>\n",
       "    </tr>\n",
       "  </thead>\n",
       "  <tbody>\n",
       "    <tr>\n",
       "      <th>0</th>\n",
       "      <td>389427</td>\n",
       "      <td>9445560</td>\n",
       "      <td>279555872</td>\n",
       "      <td>0</td>\n",
       "      <td>2009-03-25 10:31:33</td>\n",
       "      <td>175d8a73b80b3c95719c458b698e5179</td>\n",
       "      <td>0</td>\n",
       "      <td>-1</td>\n",
       "      <td>-1</td>\n",
       "      <td>276</td>\n",
       "      <td>1661</td>\n",
       "    </tr>\n",
       "    <tr>\n",
       "      <th>1</th>\n",
       "      <td>389427</td>\n",
       "      <td>9445560</td>\n",
       "      <td>279556938</td>\n",
       "      <td>0</td>\n",
       "      <td>2009-03-25 10:41:09</td>\n",
       "      <td>48fa53402b2819283472a899a30117a1</td>\n",
       "      <td>0</td>\n",
       "      <td>-1</td>\n",
       "      <td>-1</td>\n",
       "      <td>97</td>\n",
       "      <td>1758</td>\n",
       "    </tr>\n",
       "    <tr>\n",
       "      <th>2</th>\n",
       "      <td>389427</td>\n",
       "      <td>9445560</td>\n",
       "      <td>304562912</td>\n",
       "      <td>0</td>\n",
       "      <td>2009-07-27 22:23:46</td>\n",
       "      <td>28b4e603c11f65343c39fb2946615925</td>\n",
       "      <td>0</td>\n",
       "      <td>-1</td>\n",
       "      <td>-1</td>\n",
       "      <td>18</td>\n",
       "      <td>1776</td>\n",
       "    </tr>\n",
       "    <tr>\n",
       "      <th>3</th>\n",
       "      <td>389427</td>\n",
       "      <td>9445560</td>\n",
       "      <td>304563043</td>\n",
       "      <td>0</td>\n",
       "      <td>2009-07-27 22:24:41</td>\n",
       "      <td>cac360b626a79d08f7369d59b7d6c475</td>\n",
       "      <td>0</td>\n",
       "      <td>-1</td>\n",
       "      <td>-1</td>\n",
       "      <td>4</td>\n",
       "      <td>1780</td>\n",
       "    </tr>\n",
       "    <tr>\n",
       "      <th>4</th>\n",
       "      <td>389427</td>\n",
       "      <td>9445560</td>\n",
       "      <td>346862274</td>\n",
       "      <td>0</td>\n",
       "      <td>2010-02-28 11:23:52</td>\n",
       "      <td>1524d65e5ffb54be4cf2fee045b8a414</td>\n",
       "      <td>0</td>\n",
       "      <td>-1</td>\n",
       "      <td>-1</td>\n",
       "      <td>-11</td>\n",
       "      <td>2227</td>\n",
       "    </tr>\n",
       "    <tr>\n",
       "      <th>5</th>\n",
       "      <td>389427</td>\n",
       "      <td>864287</td>\n",
       "      <td>14648017</td>\n",
       "      <td>0</td>\n",
       "      <td>2005-06-03 17:05:34</td>\n",
       "      <td>6299ecddbffd72e06151bc5d1e0c681b</td>\n",
       "      <td>0</td>\n",
       "      <td>-1</td>\n",
       "      <td>-1</td>\n",
       "      <td>111</td>\n",
       "      <td>368</td>\n",
       "    </tr>\n",
       "    <tr>\n",
       "      <th>6</th>\n",
       "      <td>389427</td>\n",
       "      <td>864287</td>\n",
       "      <td>14648035</td>\n",
       "      <td>0</td>\n",
       "      <td>2005-06-03 17:42:23</td>\n",
       "      <td>dff7fe4ba8cb69c932eb61301b8ca0e0</td>\n",
       "      <td>0</td>\n",
       "      <td>-1</td>\n",
       "      <td>-1</td>\n",
       "      <td>8</td>\n",
       "      <td>376</td>\n",
       "    </tr>\n",
       "    <tr>\n",
       "      <th>7</th>\n",
       "      <td>389427</td>\n",
       "      <td>864287</td>\n",
       "      <td>14648632</td>\n",
       "      <td>0</td>\n",
       "      <td>2005-06-03 17:42:55</td>\n",
       "      <td>29f7f382ad0213dbedad8e98d5600b00</td>\n",
       "      <td>0</td>\n",
       "      <td>-1</td>\n",
       "      <td>-1</td>\n",
       "      <td>-6</td>\n",
       "      <td>370</td>\n",
       "    </tr>\n",
       "    <tr>\n",
       "      <th>8</th>\n",
       "      <td>389427</td>\n",
       "      <td>864287</td>\n",
       "      <td>14666943</td>\n",
       "      <td>0</td>\n",
       "      <td>2005-06-03 17:54:59</td>\n",
       "      <td>05305e089c89f9a0e70f5991afe554be</td>\n",
       "      <td>0</td>\n",
       "      <td>-1</td>\n",
       "      <td>-1</td>\n",
       "      <td>23</td>\n",
       "      <td>393</td>\n",
       "    </tr>\n",
       "    <tr>\n",
       "      <th>9</th>\n",
       "      <td>870433</td>\n",
       "      <td>4205653</td>\n",
       "      <td>41325786</td>\n",
       "      <td>0</td>\n",
       "      <td>2006-02-26 16:25:02</td>\n",
       "      <td>5b61e2966288555ba1e7fe1b74377933</td>\n",
       "      <td>0</td>\n",
       "      <td>-1</td>\n",
       "      <td>-1</td>\n",
       "      <td>28</td>\n",
       "      <td>2642</td>\n",
       "    </tr>\n",
       "  </tbody>\n",
       "</table>\n",
       "</div>"
      ],
      "text/plain": [
       "   user_id  article_id  revision_id  namespace            timestamp  \\\n",
       "0   389427     9445560    279555872          0  2009-03-25 10:31:33   \n",
       "1   389427     9445560    279556938          0  2009-03-25 10:41:09   \n",
       "2   389427     9445560    304562912          0  2009-07-27 22:23:46   \n",
       "3   389427     9445560    304563043          0  2009-07-27 22:24:41   \n",
       "4   389427     9445560    346862274          0  2010-02-28 11:23:52   \n",
       "5   389427      864287     14648017          0  2005-06-03 17:05:34   \n",
       "6   389427      864287     14648035          0  2005-06-03 17:42:23   \n",
       "7   389427      864287     14648632          0  2005-06-03 17:42:55   \n",
       "8   389427      864287     14666943          0  2005-06-03 17:54:59   \n",
       "9   870433     4205653     41325786          0  2006-02-26 16:25:02   \n",
       "\n",
       "                                md5  reverted  reverted_user_id  \\\n",
       "0  175d8a73b80b3c95719c458b698e5179         0                -1   \n",
       "1  48fa53402b2819283472a899a30117a1         0                -1   \n",
       "2  28b4e603c11f65343c39fb2946615925         0                -1   \n",
       "3  cac360b626a79d08f7369d59b7d6c475         0                -1   \n",
       "4  1524d65e5ffb54be4cf2fee045b8a414         0                -1   \n",
       "5  6299ecddbffd72e06151bc5d1e0c681b         0                -1   \n",
       "6  dff7fe4ba8cb69c932eb61301b8ca0e0         0                -1   \n",
       "7  29f7f382ad0213dbedad8e98d5600b00         0                -1   \n",
       "8  05305e089c89f9a0e70f5991afe554be         0                -1   \n",
       "9  5b61e2966288555ba1e7fe1b74377933         0                -1   \n",
       "\n",
       "   reverted_revision_id  delta  cur_size  \n",
       "0                    -1    276      1661  \n",
       "1                    -1     97      1758  \n",
       "2                    -1     18      1776  \n",
       "3                    -1      4      1780  \n",
       "4                    -1    -11      2227  \n",
       "5                    -1    111       368  \n",
       "6                    -1      8       376  \n",
       "7                    -1     -6       370  \n",
       "8                    -1     23       393  \n",
       "9                    -1     28      2642  "
      ]
     },
     "execution_count": 3,
     "metadata": {},
     "output_type": "execute_result"
    }
   ],
   "source": [
    "print(train_data.columns)\n",
    "print(train_data.shape)\n",
    "print(train_data.dtypes)\n",
    "train_data.head(n=10)"
   ]
  },
  {
   "cell_type": "code",
   "execution_count": 4,
   "metadata": {},
   "outputs": [],
   "source": [
    "train_data['timestamp'] = pd.to_datetime(train_data['timestamp'])"
   ]
  },
  {
   "cell_type": "markdown",
   "metadata": {},
   "source": [
    "|\n",
    "| \n",
    "The _reverted_ column is the indicator if the edit was reverted. We can see how many reverts are there in the training data. "
   ]
  },
  {
   "cell_type": "code",
   "execution_count": 5,
   "metadata": {},
   "outputs": [
    {
     "data": {
      "text/plain": [
       "<matplotlib.axes._subplots.AxesSubplot at 0x14a4949fcf8>"
      ]
     },
     "execution_count": 5,
     "metadata": {},
     "output_type": "execute_result"
    },
    {
     "data": {
      "image/png": "[encoded data removed]",
      "text/plain": [
       "<Figure size 432x288 with 1 Axes>"
      ]
     },
     "metadata": {
      "needs_background": "light"
     },
     "output_type": "display_data"
    }
   ],
   "source": [
    "sns.distplot(train_data['reverted'],kde=False)"
   ]
  },
  {
   "cell_type": "markdown",
   "metadata": {},
   "source": [
    "||\n",
    "The ratio of reverts to edits is roughly 12.5% \n",
    "\n",
    "The next thing to check is the number of unique users with reverted flag as **True** . i.e. How many unique users' edits have been reverted\n",
    "\n",
    "First we need to create a dataset from the train_data with all the edits of (users,article) which have a revert. This will shorten the processing time.\n"
   ]
  },
  {
   "cell_type": "code",
   "execution_count": 6,
   "metadata": {},
   "outputs": [],
   "source": [
    "grouped = train_data.loc[train_data.index[train_data['reverted'] == 1]].groupby(['user_id','article_id'])\n",
    "\n",
    "user_article_group = set()\n",
    "\n",
    "for name,entry in grouped:\n",
    "    user_article_group.add((name[0],name[1]))\n",
    "user_article_group = list(user_article_group)\n",
    "\n",
    "\n",
    "indices = train_data[['user_id', 'article_id']].apply(tuple, axis=1).isin(user_article_group)\n",
    "\n",
    "train_df = train_data[np.array(indices).astype(bool)]\n",
    "\n",
    "del train_data, indices, grouped, user_article_group\n",
    "\n",
    "train_df.sort_values(by=['user_id','article_id','timestamp'],inplace=True)"
   ]
  },
  {
   "cell_type": "markdown",
   "metadata": {},
   "source": [
    "We move on to see how many reverts have a followup edit from the user.\n"
   ]
  },
  {
   "cell_type": "code",
   "execution_count": 7,
   "metadata": {},
   "outputs": [
    {
     "data": {
      "text/html": [
       "<div>\n",
       "<style scoped>\n",
       "    .dataframe tbody tr th:only-of-type {\n",
       "        vertical-align: middle;\n",
       "    }\n",
       "\n",
       "    .dataframe tbody tr th {\n",
       "        vertical-align: top;\n",
       "    }\n",
       "\n",
       "    .dataframe thead th {\n",
       "        text-align: right;\n",
       "    }\n",
       "</style>\n",
       "<table border=\"1\" class=\"dataframe\">\n",
       "  <thead>\n",
       "    <tr style=\"text-align: right;\">\n",
       "      <th></th>\n",
       "      <th>user_id</th>\n",
       "      <th>article_id</th>\n",
       "      <th>revision_id</th>\n",
       "      <th>namespace</th>\n",
       "      <th>reverted</th>\n",
       "      <th>reverted_user_id</th>\n",
       "      <th>reverted_revision_id</th>\n",
       "      <th>delta</th>\n",
       "      <th>cur_size</th>\n",
       "    </tr>\n",
       "  </thead>\n",
       "  <tbody>\n",
       "    <tr>\n",
       "      <th>count</th>\n",
       "      <td>6.956193e+06</td>\n",
       "      <td>6.956193e+06</td>\n",
       "      <td>6.956193e+06</td>\n",
       "      <td>6.956193e+06</td>\n",
       "      <td>6.956193e+06</td>\n",
       "      <td>6.956193e+06</td>\n",
       "      <td>6.956193e+06</td>\n",
       "      <td>6.956193e+06</td>\n",
       "      <td>6.956193e+06</td>\n",
       "    </tr>\n",
       "    <tr>\n",
       "      <th>mean</th>\n",
       "      <td>5.044872e+05</td>\n",
       "      <td>6.648108e+06</td>\n",
       "      <td>2.075045e+08</td>\n",
       "      <td>6.733101e-01</td>\n",
       "      <td>2.859695e-01</td>\n",
       "      <td>1.442268e+05</td>\n",
       "      <td>6.044301e+07</td>\n",
       "      <td>6.313725e+01</td>\n",
       "      <td>2.953543e+04</td>\n",
       "    </tr>\n",
       "    <tr>\n",
       "      <th>std</th>\n",
       "      <td>2.897644e+05</td>\n",
       "      <td>7.904562e+06</td>\n",
       "      <td>1.081622e+08</td>\n",
       "      <td>1.281863e+00</td>\n",
       "      <td>4.518750e-01</td>\n",
       "      <td>2.737851e+05</td>\n",
       "      <td>1.105537e+08</td>\n",
       "      <td>7.687331e+03</td>\n",
       "      <td>4.629356e+04</td>\n",
       "    </tr>\n",
       "    <tr>\n",
       "      <th>min</th>\n",
       "      <td>6.000000e+01</td>\n",
       "      <td>1.200000e+01</td>\n",
       "      <td>3.700000e+01</td>\n",
       "      <td>0.000000e+00</td>\n",
       "      <td>0.000000e+00</td>\n",
       "      <td>-1.000000e+00</td>\n",
       "      <td>-1.000000e+00</td>\n",
       "      <td>-3.750626e+06</td>\n",
       "      <td>0.000000e+00</td>\n",
       "    </tr>\n",
       "    <tr>\n",
       "      <th>25%</th>\n",
       "      <td>2.548810e+05</td>\n",
       "      <td>3.769400e+05</td>\n",
       "      <td>1.180573e+08</td>\n",
       "      <td>0.000000e+00</td>\n",
       "      <td>0.000000e+00</td>\n",
       "      <td>-1.000000e+00</td>\n",
       "      <td>-1.000000e+00</td>\n",
       "      <td>0.000000e+00</td>\n",
       "      <td>4.627000e+03</td>\n",
       "    </tr>\n",
       "    <tr>\n",
       "      <th>50%</th>\n",
       "      <td>5.000760e+05</td>\n",
       "      <td>2.870578e+06</td>\n",
       "      <td>2.138962e+08</td>\n",
       "      <td>0.000000e+00</td>\n",
       "      <td>0.000000e+00</td>\n",
       "      <td>-1.000000e+00</td>\n",
       "      <td>-1.000000e+00</td>\n",
       "      <td>1.000000e+00</td>\n",
       "      <td>1.415900e+04</td>\n",
       "    </tr>\n",
       "    <tr>\n",
       "      <th>75%</th>\n",
       "      <td>7.540610e+05</td>\n",
       "      <td>1.106403e+07</td>\n",
       "      <td>3.018403e+08</td>\n",
       "      <td>1.000000e+00</td>\n",
       "      <td>1.000000e+00</td>\n",
       "      <td>1.336240e+05</td>\n",
       "      <td>7.502302e+07</td>\n",
       "      <td>1.000000e+02</td>\n",
       "      <td>3.631400e+04</td>\n",
       "    </tr>\n",
       "    <tr>\n",
       "      <th>max</th>\n",
       "      <td>9.999980e+05</td>\n",
       "      <td>3.048189e+07</td>\n",
       "      <td>4.074148e+08</td>\n",
       "      <td>5.000000e+00</td>\n",
       "      <td>1.000000e+00</td>\n",
       "      <td>9.999980e+05</td>\n",
       "      <td>4.018891e+08</td>\n",
       "      <td>1.935126e+06</td>\n",
       "      <td>1.935358e+06</td>\n",
       "    </tr>\n",
       "  </tbody>\n",
       "</table>\n",
       "</div>"
      ],
      "text/plain": [
       "            user_id    article_id   revision_id     namespace      reverted  \\\n",
       "count  6.956193e+06  6.956193e+06  6.956193e+06  6.956193e+06  6.956193e+06   \n",
       "mean   5.044872e+05  6.648108e+06  2.075045e+08  6.733101e-01  2.859695e-01   \n",
       "std    2.897644e+05  7.904562e+06  1.081622e+08  1.281863e+00  4.518750e-01   \n",
       "min    6.000000e+01  1.200000e+01  3.700000e+01  0.000000e+00  0.000000e+00   \n",
       "25%    2.548810e+05  3.769400e+05  1.180573e+08  0.000000e+00  0.000000e+00   \n",
       "50%    5.000760e+05  2.870578e+06  2.138962e+08  0.000000e+00  0.000000e+00   \n",
       "75%    7.540610e+05  1.106403e+07  3.018403e+08  1.000000e+00  1.000000e+00   \n",
       "max    9.999980e+05  3.048189e+07  4.074148e+08  5.000000e+00  1.000000e+00   \n",
       "\n",
       "       reverted_user_id  reverted_revision_id         delta      cur_size  \n",
       "count      6.956193e+06          6.956193e+06  6.956193e+06  6.956193e+06  \n",
       "mean       1.442268e+05          6.044301e+07  6.313725e+01  2.953543e+04  \n",
       "std        2.737851e+05          1.105537e+08  7.687331e+03  4.629356e+04  \n",
       "min       -1.000000e+00         -1.000000e+00 -3.750626e+06  0.000000e+00  \n",
       "25%       -1.000000e+00         -1.000000e+00  0.000000e+00  4.627000e+03  \n",
       "50%       -1.000000e+00         -1.000000e+00  1.000000e+00  1.415900e+04  \n",
       "75%        1.336240e+05          7.502302e+07  1.000000e+02  3.631400e+04  \n",
       "max        9.999980e+05          4.018891e+08  1.935126e+06  1.935358e+06  "
      ]
     },
     "execution_count": 7,
     "metadata": {},
     "output_type": "execute_result"
    }
   ],
   "source": [
    "train_df = train_df.reset_index(drop=True)\n",
    "train_df.head()\n",
    "train_df.describe()"
   ]
  },
  {
   "cell_type": "code",
   "execution_count": 8,
   "metadata": {},
   "outputs": [
    {
     "data": {
      "text/html": [
       "<div>\n",
       "<style scoped>\n",
       "    .dataframe tbody tr th:only-of-type {\n",
       "        vertical-align: middle;\n",
       "    }\n",
       "\n",
       "    .dataframe tbody tr th {\n",
       "        vertical-align: top;\n",
       "    }\n",
       "\n",
       "    .dataframe thead th {\n",
       "        text-align: right;\n",
       "    }\n",
       "</style>\n",
       "<table border=\"1\" class=\"dataframe\">\n",
       "  <thead>\n",
       "    <tr style=\"text-align: right;\">\n",
       "      <th></th>\n",
       "      <th>user_id</th>\n",
       "      <th>article_id</th>\n",
       "      <th>revision_id</th>\n",
       "      <th>namespace</th>\n",
       "      <th>timestamp</th>\n",
       "      <th>md5</th>\n",
       "      <th>reverted</th>\n",
       "      <th>reverted_user_id</th>\n",
       "      <th>reverted_revision_id</th>\n",
       "      <th>delta</th>\n",
       "      <th>cur_size</th>\n",
       "    </tr>\n",
       "  </thead>\n",
       "  <tbody>\n",
       "    <tr>\n",
       "      <th>0</th>\n",
       "      <td>60</td>\n",
       "      <td>19728</td>\n",
       "      <td>325096063</td>\n",
       "      <td>0</td>\n",
       "      <td>2009-11-10 19:12:56</td>\n",
       "      <td>8ce49ff3ca8ff94c04d8a68c4c0f697c</td>\n",
       "      <td>0</td>\n",
       "      <td>-1</td>\n",
       "      <td>-1</td>\n",
       "      <td>2</td>\n",
       "      <td>80731</td>\n",
       "    </tr>\n",
       "    <tr>\n",
       "      <th>1</th>\n",
       "      <td>60</td>\n",
       "      <td>19728</td>\n",
       "      <td>325097673</td>\n",
       "      <td>0</td>\n",
       "      <td>2009-11-10 19:21:18</td>\n",
       "      <td>8ce49ff3ca8ff94c04d8a68c4c0f697c</td>\n",
       "      <td>1</td>\n",
       "      <td>60</td>\n",
       "      <td>325096063</td>\n",
       "      <td>2</td>\n",
       "      <td>80731</td>\n",
       "    </tr>\n",
       "    <tr>\n",
       "      <th>2</th>\n",
       "      <td>60</td>\n",
       "      <td>19728</td>\n",
       "      <td>325099072</td>\n",
       "      <td>0</td>\n",
       "      <td>2009-11-10 19:28:03</td>\n",
       "      <td>8ce49ff3ca8ff94c04d8a68c4c0f697c</td>\n",
       "      <td>1</td>\n",
       "      <td>60</td>\n",
       "      <td>325096063</td>\n",
       "      <td>2</td>\n",
       "      <td>80731</td>\n",
       "    </tr>\n",
       "    <tr>\n",
       "      <th>3</th>\n",
       "      <td>60</td>\n",
       "      <td>19728</td>\n",
       "      <td>325099940</td>\n",
       "      <td>0</td>\n",
       "      <td>2009-11-10 19:32:25</td>\n",
       "      <td>403a2f255af2cac3eb7b55134945932e</td>\n",
       "      <td>0</td>\n",
       "      <td>-1</td>\n",
       "      <td>-1</td>\n",
       "      <td>14</td>\n",
       "      <td>80743</td>\n",
       "    </tr>\n",
       "    <tr>\n",
       "      <th>4</th>\n",
       "      <td>60</td>\n",
       "      <td>19728</td>\n",
       "      <td>325104819</td>\n",
       "      <td>0</td>\n",
       "      <td>2009-11-10 19:57:04</td>\n",
       "      <td>c9cedf1e4f55538465ac5c5078d4deeb</td>\n",
       "      <td>0</td>\n",
       "      <td>-1</td>\n",
       "      <td>-1</td>\n",
       "      <td>20</td>\n",
       "      <td>80749</td>\n",
       "    </tr>\n",
       "  </tbody>\n",
       "</table>\n",
       "</div>"
      ],
      "text/plain": [
       "   user_id  article_id  revision_id  namespace           timestamp  \\\n",
       "0       60       19728    325096063          0 2009-11-10 19:12:56   \n",
       "1       60       19728    325097673          0 2009-11-10 19:21:18   \n",
       "2       60       19728    325099072          0 2009-11-10 19:28:03   \n",
       "3       60       19728    325099940          0 2009-11-10 19:32:25   \n",
       "4       60       19728    325104819          0 2009-11-10 19:57:04   \n",
       "\n",
       "                                md5  reverted  reverted_user_id  \\\n",
       "0  8ce49ff3ca8ff94c04d8a68c4c0f697c         0                -1   \n",
       "1  8ce49ff3ca8ff94c04d8a68c4c0f697c         1                60   \n",
       "2  8ce49ff3ca8ff94c04d8a68c4c0f697c         1                60   \n",
       "3  403a2f255af2cac3eb7b55134945932e         0                -1   \n",
       "4  c9cedf1e4f55538465ac5c5078d4deeb         0                -1   \n",
       "\n",
       "   reverted_revision_id  delta  cur_size  \n",
       "0                    -1      2     80731  \n",
       "1             325096063      2     80731  \n",
       "2             325096063      2     80731  \n",
       "3                    -1     14     80743  \n",
       "4                    -1     20     80749  "
      ]
     },
     "execution_count": 8,
     "metadata": {},
     "output_type": "execute_result"
    }
   ],
   "source": [
    "train_df.head()"
   ]
  },
  {
   "cell_type": "code",
   "execution_count": 9,
   "metadata": {},
   "outputs": [
    {
     "name": "stderr",
     "output_type": "stream",
     "text": [
      "C:\\Users\\Aditya\\Anaconda3\\envs\\Keras\\lib\\site-packages\\ipykernel_launcher.py:8: FutureWarning: get_value is deprecated and will be removed in a future release. Please use .at[] or .iat[] accessors instead\n",
      "  \n",
      "C:\\Users\\Aditya\\Anaconda3\\envs\\Keras\\lib\\site-packages\\ipykernel_launcher.py:9: FutureWarning: get_value is deprecated and will be removed in a future release. Please use .at[] or .iat[] accessors instead\n",
      "  if __name__ == '__main__':\n",
      "C:\\Users\\Aditya\\Anaconda3\\envs\\Keras\\lib\\site-packages\\ipykernel_launcher.py:12: FutureWarning: get_value is deprecated and will be removed in a future release. Please use .at[] or .iat[] accessors instead\n",
      "  if sys.path[0] == '':\n",
      "C:\\Users\\Aditya\\Anaconda3\\envs\\Keras\\lib\\site-packages\\ipykernel_launcher.py:13: FutureWarning: get_value is deprecated and will be removed in a future release. Please use .at[] or .iat[] accessors instead\n",
      "  del sys.path[0]\n"
     ]
    },
    {
     "data": {
      "image/png": "[encoded data removed]",
      "text/plain": [
       "<Figure size 432x288 with 1 Axes>"
      ]
     },
     "metadata": {
      "needs_background": "light"
     },
     "output_type": "display_data"
    }
   ],
   "source": [
    "reverts = train_df.index[train_df['reverted'] == 1].tolist()\n",
    "counts = {'yes':0,'no':0}\n",
    "#We count the instances where the edit was reverted and the followup edit was there or not\n",
    "\n",
    "\n",
    "for row in reverts:\n",
    "    \n",
    "    u_id = train_df.get_value(row,'user_id')\n",
    "    a_id = train_df.get_value(row,'article_id')\n",
    "    \n",
    "    try:\n",
    "        next_u_id = train_df.get_value(row+1,'user_id')\n",
    "        next_a_id = train_df.get_value(row+1,'article_id')\n",
    "    except:\n",
    "        counts['no'] += 1\n",
    "        break\n",
    "    \n",
    "    if u_id == next_u_id and a_id == next_a_id:\n",
    "        counts['yes'] += 1\n",
    "    else:\n",
    "        counts['no'] += 1\n",
    "\n",
    "\n",
    "plt.bar([0,1],[counts['no'],counts['yes']])\n",
    "plt.xticks([0,1],('no','yes'))   \n",
    "plt.show()\n",
    "\n",
    "del reverts"
   ]
  },
  {
   "cell_type": "markdown",
   "metadata": {},
   "source": [
    "There seems to be a balanced data around the prediction we want to make.\n",
    "\n",
    "The assumption we made is that if there doesn't exist an edit after a revert the user didnt redit his post. However, this can also be due to the fact that the timeframe in which data was collected could be too short and the user returned at some point after the data was collected. But for this work we shall work with the assumption that if the user didn't edit in the dat we have, the edit after a revert was **NOT** made\n",
    "It seems lot of reverts have a follow-up edit.\n",
    "\n",
    "We can try and see if there is a trend for edit after a revert if a user made a number of edits previously. i.e. given user has devoted time to the article(number of edits), how many of them provide an edit after a revert. "
   ]
  },
  {
   "cell_type": "code",
   "execution_count": 10,
   "metadata": {},
   "outputs": [],
   "source": [
    "counts = []\n",
    "# To speed-up row access we use numpy\n",
    "proxy = train_df.to_numpy()\n",
    "\n",
    "rows,cols = proxy.shape\n",
    "\n",
    "cnt = 0\n",
    "\n",
    "for row in range(rows):\n",
    "    u_id = proxy[row][0]\n",
    "    a_id = proxy[row][1]\n",
    "    is_revert = proxy[row][6]\n",
    "    cnt+=1\n",
    "    try:\n",
    "        if is_revert or u_id != proxy[row+1][0] or a_id != proxy[row+1][1]:\n",
    "            counts.append(cnt)\n",
    "            cnt = 0\n",
    "    except:\n",
    "        counts.append(cnt)\n",
    "        break\n",
    "        \n",
    "del proxy"
   ]
  },
  {
   "cell_type": "code",
   "execution_count": 11,
   "metadata": {},
   "outputs": [
    {
     "name": "stdout",
     "output_type": "stream",
     "text": [
      "2447\n"
     ]
    }
   ],
   "source": [
    "print(max(counts))"
   ]
  },
  {
   "cell_type": "code",
   "execution_count": 12,
   "metadata": {},
   "outputs": [],
   "source": [
    "reverts = train_df.index[train_df['reverted'] == 1].tolist()\n",
    "revert_action = {'yes':[],'no':[]}\n",
    "#We visualize a 1-D plot for the number of edits colored by if there was a follow up edit or not\n",
    "\n",
    "# To speed-up row access we use numpy\n",
    "proxy = train_df.to_numpy()\n",
    "\n",
    "for row in reverts:\n",
    "    u_id = proxy[row][0]\n",
    "    a_id = proxy[row][1]\n",
    "    \n",
    "    try:\n",
    "        next_u_id = proxy[row+1][0]\n",
    "        next_a_id = proxy[row+1][1]\n",
    "    except:\n",
    "        revert_action['no'].append(cnt_edits)\n",
    "        break\n",
    "    \n",
    "    prev_u_id = proxy[row-1][0]\n",
    "    prev_a_id = proxy[row-1][1]\n",
    "    prev_revert = proxy[row-1][6]\n",
    "    \n",
    "    cnt_edits = 1\n",
    "    r = row-1\n",
    "    while prev_u_id == u_id and prev_a_id == a_id and prev_revert == 0:\n",
    "        cnt_edits += 1\n",
    "        r-=1\n",
    "        if r < 0:\n",
    "            break\n",
    "        prev_u_id = proxy[r-1][0]\n",
    "        prev_a_id = proxy[r-1][1]\n",
    "        prev_revert = proxy[r-1][6]\n",
    "        \n",
    "    \n",
    "    if u_id == next_u_id and a_id == next_a_id:\n",
    "        revert_action['yes'].append(cnt_edits)\n",
    "    else:\n",
    "        revert_action['no'].append(cnt_edits)\n",
    "\n",
    "del proxy,reverts"
   ]
  },
  {
   "cell_type": "code",
   "execution_count": 13,
   "metadata": {},
   "outputs": [
    {
     "name": "stdout",
     "output_type": "stream",
     "text": [
      "2188\n",
      "715\n"
     ]
    }
   ],
   "source": [
    "print(max(revert_action['yes']))\n",
    "print(max(revert_action['no']))"
   ]
  },
  {
   "cell_type": "markdown",
   "metadata": {},
   "source": [
    "The number is different from the max we computed earlier. It is due to the fact that earlier we considered the longest continuous chain of user_id,article_id until a revert was met. It can also be possible to see such a chain after a revert."
   ]
  },
  {
   "cell_type": "code",
   "execution_count": 14,
   "metadata": {},
   "outputs": [
    {
     "data": {
      "image/png": "[encoded data removed]",
      "text/plain": [
       "<Figure size 432x288 with 1 Axes>"
      ]
     },
     "metadata": {
      "needs_background": "light"
     },
     "output_type": "display_data"
    }
   ],
   "source": [
    "plt.scatter(revert_action['no'],[1]*len(revert_action['no']),alpha=0.1,label='No edit',c='r')\n",
    "plt.xlabel('Number of edits') \n",
    "plt.scatter(revert_action['yes'],[0]*len(revert_action['yes']),alpha=0.1,label='Edit',c='b')\n",
    "plt.legend()\n",
    "plt.show()\n",
    "\n",
    "del revert_action"
   ]
  },
  {
   "cell_type": "markdown",
   "metadata": {},
   "source": [
    "We can see that if the number of edits made by the user before the revert is above a threshold for example 300 it's safe to say the user will provide a subsequent edit after a revert. However, it doesn't tell much. A user can make a lot of insignificant edits so we can make use of **cur_size** field which can provide an alternate way of viewing the data\n",
    "\n",
    "Most likely interpretation of the field **cur_size** is that it tells the size of the article after an edit(probably in bytes). However, to process the train_data is very time consuming to obtain the **cur_size** field of the article prior to the edit which got reverted. We can approximate the change in **cur_size** field by using the **cur_size** field of the previous edit of the user. Incase, there was no previous edit by the user to an article before a revert the change in **cur_size** is defaulted to 0.  "
   ]
  },
  {
   "cell_type": "code",
   "execution_count": 15,
   "metadata": {},
   "outputs": [],
   "source": [
    "reverts = train_df.index[train_df['reverted'] == 1].tolist()\n",
    "revert_action = {'yes':[],'no':[]}\n",
    "#We visualize a 1-D plot for the number of edits colored by if there was a follow up edit or not\n",
    "\n",
    "# To speed-up row access we use numpy\n",
    "proxy = train_df.to_numpy()\n",
    "\n",
    "for row in reverts:\n",
    "    u_id = proxy[row][0]\n",
    "    a_id = proxy[row][1]\n",
    "    \n",
    "    try:\n",
    "        prev_u_id = proxy[row-1][0]\n",
    "        prev_a_id = proxy[row-1][1]\n",
    "        if prev_u_id == u_id and prev_a_id == a_id:\n",
    "            sz = abs(proxy[row][10] - proxy[row-1][10])\n",
    "        else:\n",
    "            sz = 0\n",
    "    except:\n",
    "        sz = 0\n",
    "        \n",
    "    try:\n",
    "        next_u_id = proxy[row+1][0]\n",
    "        next_a_id = proxy[row+1][1]\n",
    "    except:\n",
    "        revert_action['no'].append(sz)\n",
    "        break\n",
    "    \n",
    "    \n",
    "    if u_id == next_u_id and a_id == next_a_id:\n",
    "        revert_action['yes'].append(sz)\n",
    "    else:\n",
    "        revert_action['no'].append(sz)\n",
    "\n",
    "del proxy,reverts\n"
   ]
  },
  {
   "cell_type": "code",
   "execution_count": 16,
   "metadata": {},
   "outputs": [
    {
     "data": {
      "image/png": "[encoded data removed]",
      "text/plain": [
       "<Figure size 432x288 with 1 Axes>"
      ]
     },
     "metadata": {
      "needs_background": "light"
     },
     "output_type": "display_data"
    }
   ],
   "source": [
    "plt.scatter(revert_action['no'],[1]*len(revert_action['no']),alpha=0.1,label='No edit',c='r')\n",
    "plt.xlabel('Size of edits') \n",
    "plt.scatter(revert_action['yes'],[0]*len(revert_action['yes']),alpha=0.1,label='Edit',c='b')\n",
    "plt.legend()\n",
    "plt.show()"
   ]
  },
  {
   "cell_type": "code",
   "execution_count": 17,
   "metadata": {},
   "outputs": [],
   "source": [
    "del revert_action"
   ]
  },
  {
   "cell_type": "markdown",
   "metadata": {},
   "source": [
    "The **cur_size** field has not provided us with helpful insights. Might be due to the fact that we approximated the change in **cur_size**. \n",
    "#### TODO: Exact Cur_Size"
   ]
  },
  {
   "cell_type": "markdown",
   "metadata": {},
   "source": [
    "let's check if the identity of the person who makes the revert matters. Specifically, if a person reverting is different from the user do we see mroe edits after a revert to the case when the reverter is different."
   ]
  },
  {
   "cell_type": "code",
   "execution_count": 18,
   "metadata": {},
   "outputs": [],
   "source": [
    "reverts = train_df.index[train_df['reverted'] == 1].tolist()\n",
    "revert_action = {'same':[0,0],'different':[0,0]}\n",
    "\n",
    "\n",
    "# To speed-up row access we use numpy\n",
    "proxy = train_df.to_numpy()\n",
    "\n",
    "for row in reverts:\n",
    "    u_id = proxy[row][0]\n",
    "    a_id = proxy[row][1]\n",
    "    \n",
    "    is_same = proxy[row][7] == u_id\n",
    "    \n",
    "    try:\n",
    "        next_u_id = proxy[row+1][0]\n",
    "        next_a_id = proxy[row+1][1]\n",
    "    except:\n",
    "        if is_same:\n",
    "            revert_action['same'][0] += 1\n",
    "        else:\n",
    "            revert_action['different'][0] += 1\n",
    "        break\n",
    "        \n",
    "    if u_id == next_u_id and a_id == next_a_id:\n",
    "        if is_same:\n",
    "            revert_action['same'][1] += 1\n",
    "        else:\n",
    "            revert_action['different'][1] += 1\n",
    "    else:\n",
    "        if is_same:\n",
    "            revert_action['same'][0] += 1\n",
    "        else:\n",
    "            revert_action['different'][0] += 1\n",
    "\n",
    "del proxy,reverts"
   ]
  },
  {
   "cell_type": "code",
   "execution_count": 19,
   "metadata": {},
   "outputs": [
    {
     "data": {
      "image/png": "[encoded data removed]",
      "text/plain": [
       "<Figure size 432x288 with 1 Axes>"
      ]
     },
     "metadata": {
      "needs_background": "light"
     },
     "output_type": "display_data"
    },
    {
     "name": "stdout",
     "output_type": "stream",
     "text": [
      "{'same': [73187, 277473], 'different': [836286, 802313]}\n"
     ]
    }
   ],
   "source": [
    "width = 0.35 \n",
    "ind = np.arange(2) \n",
    "fig, ax = plt.subplots()\n",
    "ax.bar(ind,revert_action['same'],width,label='Same ID',color='r')\n",
    "ax.bar(ind+width,revert_action['different'],width,label='Different ID',color='b')\n",
    "ax.set_xticks(ind + width / 2)\n",
    "ax.set_xticklabels(('No Revert','Reverted'))\n",
    "ax.legend()\n",
    "plt.show()\n",
    "\n",
    "print(revert_action)\n",
    "del revert_action"
   ]
  },
  {
   "cell_type": "markdown",
   "metadata": {},
   "source": [
    "As expected, users who revert their changes are quite likely to make an edit after the revert. \n",
    "This says that the reverter's ID is of relevance for the prupose of prediction\n",
    "\n",
    "Lets move to the **namespace** field. It identifies the category of the article."
   ]
  },
  {
   "cell_type": "code",
   "execution_count": 20,
   "metadata": {},
   "outputs": [
    {
     "data": {
      "text/plain": [
       "array([[0, 'Main'],\n",
       "       [1, 'Talk'],\n",
       "       [2, 'User'],\n",
       "       [3, 'User Talk'],\n",
       "       [4, 'Wikipedia'],\n",
       "       [5, 'Wikipedia Talk']], dtype=object)"
      ]
     },
     "execution_count": 20,
     "metadata": {},
     "output_type": "execute_result"
    }
   ],
   "source": [
    "namespaces = pd.read_csv('../data/wikichallenge/namespaces.tsv', sep='\\t', header=0)\n",
    "namespaces.values"
   ]
  },
  {
   "cell_type": "markdown",
   "metadata": {},
   "source": [
    "We try to observe the behaviour specific to the namespace of articles"
   ]
  },
  {
   "cell_type": "code",
   "execution_count": 21,
   "metadata": {},
   "outputs": [],
   "source": [
    "reverts = train_df.index[train_df['reverted'] == 1].tolist()\n",
    "revert_action = {0:[0,0],1:[0,0],2:[0,0],3:[0,0],4:[0,0],5:[0,0]}\n",
    "\n",
    "proxy = train_df.to_numpy()\n",
    "\n",
    "for row in reverts:\n",
    "    u_id = proxy[row][0]\n",
    "    a_id = proxy[row][1]\n",
    "    namespace = proxy[row][3]\n",
    "    \n",
    "    try:\n",
    "        next_u_id = proxy[row+1][0]\n",
    "        next_a_id = proxy[row+1][1]\n",
    "    except:\n",
    "        revert_action[namespace][0] += 1\n",
    "        break\n",
    "    \n",
    "    if u_id == next_u_id and a_id == next_a_id:\n",
    "        revert_action[namespace][1] += 1\n",
    "    else:\n",
    "        revert_action[namespace][0] += 1\n",
    "    \n",
    "        \n",
    "del proxy,reverts"
   ]
  },
  {
   "cell_type": "code",
   "execution_count": 22,
   "metadata": {},
   "outputs": [
    {
     "data": {
      "image/png": "[encoded data removed]",
      "text/plain": [
       "<Figure size 432x288 with 1 Axes>"
      ]
     },
     "metadata": {
      "needs_background": "light"
     },
     "output_type": "display_data"
    },
    {
     "name": "stdout",
     "output_type": "stream",
     "text": [
      "{0: [764323, 941050], 1: [80929, 38984], 2: [21875, 31002], 3: [27355, 36189], 4: [12972, 29403], 5: [2019, 3158]}\n"
     ]
    }
   ],
   "source": [
    "width = 0.15 \n",
    "ind = np.arange(2) \n",
    "fig, ax = plt.subplots()\n",
    "mult = 0\n",
    "col = ['r','g','b','y','k','c']\n",
    "for key, value in revert_action.items():\n",
    "    ax.bar(ind+mult*width,value,width,label=key,color=col[mult])\n",
    "    mult+=1\n",
    "    \n",
    "ax.set_xticks(ind + width / 2)\n",
    "ax.set_xticklabels(('No Revert','Reverted'))\n",
    "ax.legend()\n",
    "plt.show()\n",
    "\n",
    "print(revert_action)\n",
    "del revert_action"
   ]
  },
  {
   "cell_type": "markdown",
   "metadata": {},
   "source": [
    "It seems articls with namespace **1** has a dip in the number of edits following a revert\n",
    "\n",
    "Let's see if we can find some sense in the comments related to a revert."
   ]
  },
  {
   "cell_type": "code",
   "execution_count": 23,
   "metadata": {},
   "outputs": [
    {
     "data": {
      "text/html": [
       "<div>\n",
       "<style scoped>\n",
       "    .dataframe tbody tr th:only-of-type {\n",
       "        vertical-align: middle;\n",
       "    }\n",
       "\n",
       "    .dataframe tbody tr th {\n",
       "        vertical-align: top;\n",
       "    }\n",
       "\n",
       "    .dataframe thead th {\n",
       "        text-align: right;\n",
       "    }\n",
       "</style>\n",
       "<table border=\"1\" class=\"dataframe\">\n",
       "  <thead>\n",
       "    <tr style=\"text-align: right;\">\n",
       "      <th></th>\n",
       "      <th>revision_id</th>\n",
       "      <th>comment</th>\n",
       "    </tr>\n",
       "  </thead>\n",
       "  <tbody>\n",
       "    <tr>\n",
       "      <th>0</th>\n",
       "      <td>198862276</td>\n",
       "      <td>/* \"I doubt Will would pick on some random new...</td>\n",
       "    </tr>\n",
       "    <tr>\n",
       "      <th>1</th>\n",
       "      <td>123682893</td>\n",
       "      <td>/* Question to anyone watching... */ reply to ...</td>\n",
       "    </tr>\n",
       "    <tr>\n",
       "      <th>2</th>\n",
       "      <td>154648658</td>\n",
       "      <td>Replacing [[Image:Flag_of_USA.svg]] with [[Ima...</td>\n",
       "    </tr>\n",
       "    <tr>\n",
       "      <th>3</th>\n",
       "      <td>356106332</td>\n",
       "      <td>capt. to captain</td>\n",
       "    </tr>\n",
       "    <tr>\n",
       "      <th>4</th>\n",
       "      <td>108137146</td>\n",
       "      <td>rm deleted image</td>\n",
       "    </tr>\n",
       "  </tbody>\n",
       "</table>\n",
       "</div>"
      ],
      "text/plain": [
       "   revision_id                                            comment\n",
       "0    198862276  /* \"I doubt Will would pick on some random new...\n",
       "1    123682893  /* Question to anyone watching... */ reply to ...\n",
       "2    154648658  Replacing [[Image:Flag_of_USA.svg]] with [[Ima...\n",
       "3    356106332                                   capt. to captain\n",
       "4    108137146                                   rm deleted image"
      ]
     },
     "execution_count": 23,
     "metadata": {},
     "output_type": "execute_result"
    }
   ],
   "source": [
    "comments = pd.read_csv('../data/wikichallenge/comments.tsv', sep='\\t', header=0)\n",
    "comments.head()"
   ]
  },
  {
   "cell_type": "markdown",
   "metadata": {},
   "source": [
    "### Merge Comments"
   ]
  },
  {
   "cell_type": "markdown",
   "metadata": {},
   "source": [
    "We prepare a single dataframe on which we can perform feature analysis. This will require us to merge comments, titles etc. into the train_df"
   ]
  },
  {
   "cell_type": "code",
   "execution_count": 24,
   "metadata": {},
   "outputs": [],
   "source": [
    "comments = pd.read_csv('../data/wikichallenge/comments.tsv', sep='\\t', header=0)\n",
    "train_df = pd.merge(train_df,comments,on='revision_id',how='left')\n",
    "del comments"
   ]
  },
  {
   "cell_type": "code",
   "execution_count": 25,
   "metadata": {},
   "outputs": [
    {
     "data": {
      "text/html": [
       "<div>\n",
       "<style scoped>\n",
       "    .dataframe tbody tr th:only-of-type {\n",
       "        vertical-align: middle;\n",
       "    }\n",
       "\n",
       "    .dataframe tbody tr th {\n",
       "        vertical-align: top;\n",
       "    }\n",
       "\n",
       "    .dataframe thead th {\n",
       "        text-align: right;\n",
       "    }\n",
       "</style>\n",
       "<table border=\"1\" class=\"dataframe\">\n",
       "  <thead>\n",
       "    <tr style=\"text-align: right;\">\n",
       "      <th></th>\n",
       "      <th>user_id</th>\n",
       "      <th>article_id</th>\n",
       "      <th>revision_id</th>\n",
       "      <th>namespace</th>\n",
       "      <th>timestamp</th>\n",
       "      <th>md5</th>\n",
       "      <th>reverted</th>\n",
       "      <th>reverted_user_id</th>\n",
       "      <th>reverted_revision_id</th>\n",
       "      <th>delta</th>\n",
       "      <th>cur_size</th>\n",
       "      <th>comment</th>\n",
       "    </tr>\n",
       "  </thead>\n",
       "  <tbody>\n",
       "    <tr>\n",
       "      <th>0</th>\n",
       "      <td>60</td>\n",
       "      <td>19728</td>\n",
       "      <td>325096063</td>\n",
       "      <td>0</td>\n",
       "      <td>2009-11-10 19:12:56</td>\n",
       "      <td>8ce49ff3ca8ff94c04d8a68c4c0f697c</td>\n",
       "      <td>0</td>\n",
       "      <td>-1</td>\n",
       "      <td>-1</td>\n",
       "      <td>2</td>\n",
       "      <td>80731</td>\n",
       "      <td>NaN</td>\n",
       "    </tr>\n",
       "    <tr>\n",
       "      <th>1</th>\n",
       "      <td>60</td>\n",
       "      <td>19728</td>\n",
       "      <td>325097673</td>\n",
       "      <td>0</td>\n",
       "      <td>2009-11-10 19:21:18</td>\n",
       "      <td>8ce49ff3ca8ff94c04d8a68c4c0f697c</td>\n",
       "      <td>1</td>\n",
       "      <td>60</td>\n",
       "      <td>325096063</td>\n",
       "      <td>2</td>\n",
       "      <td>80731</td>\n",
       "      <td>I know what you are saying, but see my comment...</td>\n",
       "    </tr>\n",
       "    <tr>\n",
       "      <th>2</th>\n",
       "      <td>60</td>\n",
       "      <td>19728</td>\n",
       "      <td>325099072</td>\n",
       "      <td>0</td>\n",
       "      <td>2009-11-10 19:28:03</td>\n",
       "      <td>8ce49ff3ca8ff94c04d8a68c4c0f697c</td>\n",
       "      <td>1</td>\n",
       "      <td>60</td>\n",
       "      <td>325096063</td>\n",
       "      <td>2</td>\n",
       "      <td>80731</td>\n",
       "      <td>Please see the discussion forum before you rev...</td>\n",
       "    </tr>\n",
       "    <tr>\n",
       "      <th>3</th>\n",
       "      <td>60</td>\n",
       "      <td>19728</td>\n",
       "      <td>325099940</td>\n",
       "      <td>0</td>\n",
       "      <td>2009-11-10 19:32:25</td>\n",
       "      <td>403a2f255af2cac3eb7b55134945932e</td>\n",
       "      <td>0</td>\n",
       "      <td>-1</td>\n",
       "      <td>-1</td>\n",
       "      <td>14</td>\n",
       "      <td>80743</td>\n",
       "      <td>NaN</td>\n",
       "    </tr>\n",
       "    <tr>\n",
       "      <th>4</th>\n",
       "      <td>60</td>\n",
       "      <td>19728</td>\n",
       "      <td>325104819</td>\n",
       "      <td>0</td>\n",
       "      <td>2009-11-10 19:57:04</td>\n",
       "      <td>c9cedf1e4f55538465ac5c5078d4deeb</td>\n",
       "      <td>0</td>\n",
       "      <td>-1</td>\n",
       "      <td>-1</td>\n",
       "      <td>20</td>\n",
       "      <td>80749</td>\n",
       "      <td>NaN</td>\n",
       "    </tr>\n",
       "  </tbody>\n",
       "</table>\n",
       "</div>"
      ],
      "text/plain": [
       "   user_id  article_id  revision_id  namespace           timestamp  \\\n",
       "0       60       19728    325096063          0 2009-11-10 19:12:56   \n",
       "1       60       19728    325097673          0 2009-11-10 19:21:18   \n",
       "2       60       19728    325099072          0 2009-11-10 19:28:03   \n",
       "3       60       19728    325099940          0 2009-11-10 19:32:25   \n",
       "4       60       19728    325104819          0 2009-11-10 19:57:04   \n",
       "\n",
       "                                md5  reverted  reverted_user_id  \\\n",
       "0  8ce49ff3ca8ff94c04d8a68c4c0f697c         0                -1   \n",
       "1  8ce49ff3ca8ff94c04d8a68c4c0f697c         1                60   \n",
       "2  8ce49ff3ca8ff94c04d8a68c4c0f697c         1                60   \n",
       "3  403a2f255af2cac3eb7b55134945932e         0                -1   \n",
       "4  c9cedf1e4f55538465ac5c5078d4deeb         0                -1   \n",
       "\n",
       "   reverted_revision_id  delta  cur_size  \\\n",
       "0                    -1      2     80731   \n",
       "1             325096063      2     80731   \n",
       "2             325096063      2     80731   \n",
       "3                    -1     14     80743   \n",
       "4                    -1     20     80749   \n",
       "\n",
       "                                             comment  \n",
       "0                                                NaN  \n",
       "1  I know what you are saying, but see my comment...  \n",
       "2  Please see the discussion forum before you rev...  \n",
       "3                                                NaN  \n",
       "4                                                NaN  "
      ]
     },
     "execution_count": 25,
     "metadata": {},
     "output_type": "execute_result"
    }
   ],
   "source": [
    "train_df.head(n=5)"
   ]
  },
  {
   "cell_type": "code",
   "execution_count": 26,
   "metadata": {},
   "outputs": [],
   "source": [
    "from gensim.parsing.preprocessing import remove_stopwords\n",
    "from gensim.parsing.preprocessing import preprocess_string\n",
    "\n",
    "reverts = train_df.index[train_df['reverted'] == 1].tolist()\n",
    "\n",
    "edit_words = {}\n",
    "no_edit_words = {}\n",
    "\n",
    "proxy = train_df.to_numpy()\n",
    "\n",
    "for row in reverts:\n",
    "    \n",
    "    u_id = proxy[row][0]\n",
    "    a_id = proxy[row][1]\n",
    "    \n",
    "    words = str(proxy[row][11])\n",
    "    no_stop_words = remove_stopwords(words)\n",
    "    processed_words = preprocess_string(no_stop_words)\n",
    "    \n",
    "    try:\n",
    "        next_u_id = proxy[row+1][0]\n",
    "        next_a_id = proxy[row+1][1]\n",
    "    except:\n",
    "        for word in processed_words:\n",
    "            if word not in no_edit_words:\n",
    "                no_edit_words[word] = 0\n",
    "            no_edit_words[word] += 1\n",
    "        break\n",
    "    \n",
    "    if u_id == next_u_id and a_id == next_a_id:\n",
    "        for word in processed_words:\n",
    "            if word not in edit_words:\n",
    "                edit_words[word] = 0\n",
    "            edit_words[word] += 1\n",
    "    else:\n",
    "        for word in processed_words:\n",
    "            if word not in no_edit_words:\n",
    "                no_edit_words[word] = 0\n",
    "            no_edit_words[word] += 1\n",
    "        \n",
    "del proxy, reverts"
   ]
  },
  {
   "cell_type": "code",
   "execution_count": 27,
   "metadata": {},
   "outputs": [
    {
     "data": {
      "image/png": "[encoded data removed]",
      "text/plain": [
       "<Figure size 864x576 with 1 Axes>"
      ]
     },
     "metadata": {
      "needs_background": "light"
     },
     "output_type": "display_data"
    }
   ],
   "source": [
    "from collections import Counter\n",
    "\n",
    "no_edit_counts = Counter(no_edit_words)\n",
    "total = sum(no_edit_counts.values(), 0.0)\n",
    "for key in no_edit_counts:\n",
    "    no_edit_counts[key] = int(100*no_edit_counts[key]/total)\n",
    "\n",
    "edit_counts = Counter(edit_words)\n",
    "total = sum(edit_counts.values(), 0.0)\n",
    "for key in edit_counts:\n",
    "    edit_counts[key] = int(100*edit_counts[key]/total)\n",
    "\n",
    "freq_no_edits = no_edit_counts.most_common(15)\n",
    "freq_edits = edit_counts.most_common(15)\n",
    "\n",
    "edits_text = [i[1] for i in freq_edits]\n",
    "no_edits_text = [i[1] for i in freq_no_edits]\n",
    "\n",
    "width = 0.4\n",
    "ind = np.arange(len(freq_edits)) \n",
    "fig, ax = plt.subplots(figsize=(12,8))\n",
    "bar_edit = ax.bar(ind,edits_text,width,label='Edit',color='b')\n",
    "bar_no_edit = ax.bar(ind+width,no_edits_text,width,label='No Edit',color='r')\n",
    "\n",
    "cnt = 0\n",
    "for rect in bar_edit:\n",
    "    height = rect.get_height()\n",
    "    plt.text(rect.get_x() + rect.get_width()/2.0, height, freq_edits[cnt][0], ha='center', va='bottom',fontsize=8)\n",
    "    cnt += 1\n",
    "\n",
    "cnt = 0\n",
    "for rect in bar_no_edit:\n",
    "    height = rect.get_height()\n",
    "    plt.text(rect.get_x() + rect.get_width()/2.0, height, freq_no_edits[cnt][0], ha='center', va='bottom',fontsize=8)\n",
    "    cnt += 1\n",
    "    \n",
    "\n",
    "ax.legend()\n",
    "plt.tight_layout()\n",
    "plt.show()"
   ]
  },
  {
   "cell_type": "markdown",
   "metadata": {},
   "source": [
    "From the initial glance the comments don't look much helpful. Plus, the comments seem to be only initial few words rather than the complete comment. For the task of prediction we will ignore the comments field"
   ]
  },
  {
   "cell_type": "code",
   "execution_count": 28,
   "metadata": {},
   "outputs": [],
   "source": [
    "del no_edit_words, edit_words, edit_counts, no_edit_counts"
   ]
  },
  {
   "cell_type": "markdown",
   "metadata": {},
   "source": [
    "### Dataset Creation\n",
    "\n",
    "We now create the dataset which we can train using only the important columns and some modifications\n",
    "\n",
    "1. We will be storing the number of edits prior to the reverted edit\n",
    "2. One hot encoding for namespace\n",
    "3. Boolean if the reverter is same as the editor\n"
   ]
  },
  {
   "cell_type": "code",
   "execution_count": null,
   "metadata": {},
   "outputs": [],
   "source": [
    "train_df.drop('comment',inplace=True,axis=1)"
   ]
  },
  {
   "cell_type": "code",
   "execution_count": 32,
   "metadata": {},
   "outputs": [],
   "source": [
    "\n",
    "reverts = train_df.index[train_df['reverted'] == 1].tolist()\n",
    "proxy = train_df.to_numpy()\n",
    "\n",
    "data = []\n",
    "\n",
    "for row in reverts:\n",
    "    u_id = proxy[row][0]\n",
    "    a_id = proxy[row][1]\n",
    "    namespace = proxy[row][3]\n",
    "    \n",
    "    is_reverter = u_id == proxy[row][7]\n",
    "    try:\n",
    "        next_u_id = proxy[row+1][0]\n",
    "        next_a_id = proxy[row+1][1]\n",
    "    except:\n",
    "        data.append([cnt_edits,namespace,is_reverter,0])\n",
    "    \n",
    "    prev_u_id = proxy[row-1][0]\n",
    "    prev_a_id = proxy[row-1][1]\n",
    "    prev_revert = proxy[row-1][6]\n",
    "    \n",
    "    cnt_edits = 0\n",
    "    r = row-1\n",
    "    while prev_u_id == u_id and prev_a_id == a_id and prev_revert == 0:\n",
    "        cnt_edits += 1\n",
    "        r-=1\n",
    "        if r < 0:\n",
    "            break\n",
    "        prev_u_id = proxy[r-1][0]\n",
    "        prev_a_id = proxy[r-1][1]\n",
    "        prev_revert = proxy[r-1][6]\n",
    "    \n",
    "    \n",
    "    if u_id == next_u_id and a_id == next_a_id:\n",
    "        data.append([cnt_edits,namespace,is_reverter,1])\n",
    "    else:\n",
    "        data.append([cnt_edits,namespace,is_reverter,0])\n",
    "\n",
    "del proxy, reverts"
   ]
  },
  {
   "cell_type": "code",
   "execution_count": 34,
   "metadata": {},
   "outputs": [],
   "source": [
    "dataset = pd.DataFrame(data,columns=['number_of_prev_edits','namespace','is_reverter','target'])\n",
    "dataset.to_csv('../data/dataset.csv')"
   ]
  },
  {
   "cell_type": "code",
   "execution_count": 35,
   "metadata": {},
   "outputs": [
    {
     "data": {
      "text/html": [
       "<div>\n",
       "<style scoped>\n",
       "    .dataframe tbody tr th:only-of-type {\n",
       "        vertical-align: middle;\n",
       "    }\n",
       "\n",
       "    .dataframe tbody tr th {\n",
       "        vertical-align: top;\n",
       "    }\n",
       "\n",
       "    .dataframe thead th {\n",
       "        text-align: right;\n",
       "    }\n",
       "</style>\n",
       "<table border=\"1\" class=\"dataframe\">\n",
       "  <thead>\n",
       "    <tr style=\"text-align: right;\">\n",
       "      <th></th>\n",
       "      <th>number_of_prev_edits</th>\n",
       "      <th>namespace</th>\n",
       "      <th>is_reverter</th>\n",
       "      <th>target</th>\n",
       "    </tr>\n",
       "  </thead>\n",
       "  <tbody>\n",
       "    <tr>\n",
       "      <th>0</th>\n",
       "      <td>1</td>\n",
       "      <td>0</td>\n",
       "      <td>True</td>\n",
       "      <td>1</td>\n",
       "    </tr>\n",
       "    <tr>\n",
       "      <th>1</th>\n",
       "      <td>0</td>\n",
       "      <td>0</td>\n",
       "      <td>True</td>\n",
       "      <td>1</td>\n",
       "    </tr>\n",
       "    <tr>\n",
       "      <th>2</th>\n",
       "      <td>1</td>\n",
       "      <td>3</td>\n",
       "      <td>True</td>\n",
       "      <td>1</td>\n",
       "    </tr>\n",
       "    <tr>\n",
       "      <th>3</th>\n",
       "      <td>1</td>\n",
       "      <td>0</td>\n",
       "      <td>True</td>\n",
       "      <td>1</td>\n",
       "    </tr>\n",
       "    <tr>\n",
       "      <th>4</th>\n",
       "      <td>1</td>\n",
       "      <td>0</td>\n",
       "      <td>False</td>\n",
       "      <td>1</td>\n",
       "    </tr>\n",
       "  </tbody>\n",
       "</table>\n",
       "</div>"
      ],
      "text/plain": [
       "   number_of_prev_edits  namespace  is_reverter  target\n",
       "0                     1          0         True       1\n",
       "1                     0          0         True       1\n",
       "2                     1          3         True       1\n",
       "3                     1          0         True       1\n",
       "4                     1          0        False       1"
      ]
     },
     "execution_count": 35,
     "metadata": {},
     "output_type": "execute_result"
    }
   ],
   "source": [
    "dataset.head()"
   ]
  },
  {
   "cell_type": "code",
   "execution_count": 36,
   "metadata": {},
   "outputs": [
    {
     "data": {
      "text/html": [
       "<div>\n",
       "<style scoped>\n",
       "    .dataframe tbody tr th:only-of-type {\n",
       "        vertical-align: middle;\n",
       "    }\n",
       "\n",
       "    .dataframe tbody tr th {\n",
       "        vertical-align: top;\n",
       "    }\n",
       "\n",
       "    .dataframe thead th {\n",
       "        text-align: right;\n",
       "    }\n",
       "</style>\n",
       "<table border=\"1\" class=\"dataframe\">\n",
       "  <thead>\n",
       "    <tr style=\"text-align: right;\">\n",
       "      <th></th>\n",
       "      <th>number_of_prev_edits</th>\n",
       "      <th>namespace</th>\n",
       "      <th>target</th>\n",
       "    </tr>\n",
       "  </thead>\n",
       "  <tbody>\n",
       "    <tr>\n",
       "      <th>count</th>\n",
       "      <td>1.989260e+06</td>\n",
       "      <td>1.989260e+06</td>\n",
       "      <td>1.989260e+06</td>\n",
       "    </tr>\n",
       "    <tr>\n",
       "      <th>mean</th>\n",
       "      <td>1.881828e+00</td>\n",
       "      <td>3.074932e-01</td>\n",
       "      <td>5.428084e-01</td>\n",
       "    </tr>\n",
       "    <tr>\n",
       "      <th>std</th>\n",
       "      <td>1.130274e+01</td>\n",
       "      <td>8.748928e-01</td>\n",
       "      <td>4.981642e-01</td>\n",
       "    </tr>\n",
       "    <tr>\n",
       "      <th>min</th>\n",
       "      <td>0.000000e+00</td>\n",
       "      <td>0.000000e+00</td>\n",
       "      <td>0.000000e+00</td>\n",
       "    </tr>\n",
       "    <tr>\n",
       "      <th>25%</th>\n",
       "      <td>0.000000e+00</td>\n",
       "      <td>0.000000e+00</td>\n",
       "      <td>0.000000e+00</td>\n",
       "    </tr>\n",
       "    <tr>\n",
       "      <th>50%</th>\n",
       "      <td>0.000000e+00</td>\n",
       "      <td>0.000000e+00</td>\n",
       "      <td>1.000000e+00</td>\n",
       "    </tr>\n",
       "    <tr>\n",
       "      <th>75%</th>\n",
       "      <td>1.000000e+00</td>\n",
       "      <td>0.000000e+00</td>\n",
       "      <td>1.000000e+00</td>\n",
       "    </tr>\n",
       "    <tr>\n",
       "      <th>max</th>\n",
       "      <td>2.187000e+03</td>\n",
       "      <td>5.000000e+00</td>\n",
       "      <td>1.000000e+00</td>\n",
       "    </tr>\n",
       "  </tbody>\n",
       "</table>\n",
       "</div>"
      ],
      "text/plain": [
       "       number_of_prev_edits     namespace        target\n",
       "count          1.989260e+06  1.989260e+06  1.989260e+06\n",
       "mean           1.881828e+00  3.074932e-01  5.428084e-01\n",
       "std            1.130274e+01  8.748928e-01  4.981642e-01\n",
       "min            0.000000e+00  0.000000e+00  0.000000e+00\n",
       "25%            0.000000e+00  0.000000e+00  0.000000e+00\n",
       "50%            0.000000e+00  0.000000e+00  1.000000e+00\n",
       "75%            1.000000e+00  0.000000e+00  1.000000e+00\n",
       "max            2.187000e+03  5.000000e+00  1.000000e+00"
      ]
     },
     "execution_count": 36,
     "metadata": {},
     "output_type": "execute_result"
    }
   ],
   "source": [
    "dataset.describe()"
   ]
  },
  {
   "cell_type": "code",
   "execution_count": 37,
   "metadata": {},
   "outputs": [
    {
     "data": {
      "text/plain": [
       "(1989260, 4)"
      ]
     },
     "execution_count": 37,
     "metadata": {},
     "output_type": "execute_result"
    }
   ],
   "source": [
    "dataset.shape"
   ]
  },
  {
   "cell_type": "code",
   "execution_count": null,
   "metadata": {},
   "outputs": [],
   "source": []
  }
 ],
 "metadata": {
  "kernelspec": {
   "display_name": "Python 3",
   "language": "python",
   "name": "python3"
  },
  "language_info": {
   "codemirror_mode": {
    "name": "ipython",
    "version": 3
   },
   "file_extension": ".py",
   "mimetype": "text/x-python",
   "name": "python",
   "nbconvert_exporter": "python",
   "pygments_lexer": "ipython3",
   "version": "3.6.8"
  }
 },
 "nbformat": 4,
 "nbformat_minor": 2
}
